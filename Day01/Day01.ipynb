{
 "cells": [
  {
   "cell_type": "code",
   "execution_count": null,
   "id": "a9ee00fa-7910-4dff-9470-04021b0f16b3",
   "metadata": {},
   "outputs": [],
   "source": []
  },
  {
   "cell_type": "code",
   "execution_count": 1,
   "id": "3998b42f-e6a2-4fcf-af67-0da0cfac0f8d",
   "metadata": {},
   "outputs": [],
   "source": [
    "def read_input(infile):\n",
    "    frequencies = []\n",
    "    with open(infile, 'r') as inf:\n",
    "        for line in inf.readlines():\n",
    "            frequencies.append(int(line.strip()))\n",
    "    return frequencies"
   ]
  },
  {
   "cell_type": "code",
   "execution_count": 2,
   "id": "da5c17b3-477b-4f2c-a51b-b526a14f95f9",
   "metadata": {},
   "outputs": [
    {
     "data": {
      "text/plain": [
       "75749"
      ]
     },
     "execution_count": 2,
     "metadata": {},
     "output_type": "execute_result"
    }
   ],
   "source": [
    "def get_frequency(frequencies):\n",
    "    return sum(frequencies)\n",
    "\n",
    "def find_duplicate(frequencies):\n",
    "\n",
    "    # Brute force attempt, works but slow\n",
    "    known = []\n",
    "\n",
    "    freq = 0\n",
    "    done = False\n",
    "    while not done:\n",
    "        for f in frequencies:\n",
    "            freq += f\n",
    "            if freq in known:\n",
    "                done = True\n",
    "                break\n",
    "            known += [freq]\n",
    "\n",
    "    return freq\n",
    "\n",
    "def find_duplicate_fast(frequencies):\n",
    "\n",
    "    # First find the base frequency changes\n",
    "    freq = []\n",
    "    f = 0\n",
    "    for ff in frequencies:\n",
    "        f += ff\n",
    "        freq.append(f)\n",
    "\n",
    "    # This is the amount, the base step ladder increases every loop\n",
    "    step = freq[-1]\n",
    "\n",
    "    diffs = []\n",
    "    mindiff = 1e9\n",
    "    for i, f1 in enumerate(freq[:-1]):\n",
    "        for j, f2 in enumerate(freq[i+1:]):\n",
    "            # Check if the difference between the two values is a multiple of the step size\n",
    "            if (f2-f1) % step == 0:\n",
    "                d = abs(f2-f1)//step\n",
    "                mindiff = min(mindiff, d)\n",
    "                imin = i\n",
    "                if f2 < f1:\n",
    "                    imin = j+i+1\n",
    "                diffs.append((d, imin + (d+1)*len(freq), min(f1, f2)))\n",
    "\n",
    "    # Find the first one we hit \n",
    "    for d in sorted(diffs, key=lambda x: x[1]):\n",
    "        if d[0] == mindiff:\n",
    "            return d[2] + d[0]*step\n",
    "\n",
    "find_duplicate_fast(read_input('input01.txt'))"
   ]
  },
  {
   "cell_type": "code",
   "execution_count": 3,
   "id": "02f1ce99-6ff6-4230-acc0-c841156b0b96",
   "metadata": {},
   "outputs": [
    {
     "name": "stdout",
     "output_type": "stream",
     "text": [
      "*******\n",
      "Puzzle1\n",
      "*******\n",
      "\n",
      "Test case\n",
      "---------\n",
      "\n",
      "Frequency is 3\n",
      "\n",
      "Puzzle case\n",
      "-----------\n",
      "\n",
      "Frequency is 525\n",
      "\n",
      "*******\n",
      "Puzzle2\n",
      "*******\n",
      "\n",
      "Test case\n",
      "---------\n",
      "\n",
      "First duplicate is 2\n",
      "\n",
      "Puzzle case\n",
      "-----------\n",
      "\n",
      "First duplicate is 75749\n"
     ]
    }
   ],
   "source": [
    "print('*******\\nPuzzle1\\n*******\\n')\n",
    "\n",
    "print('Test case\\n---------\\n')\n",
    "\n",
    "res = get_frequency([+1, -2, +3, +1])\n",
    "\n",
    "print(f'Frequency is {res}')\n",
    "\n",
    "assert res == 3\n",
    "\n",
    "print('\\nPuzzle case\\n-----------\\n')\n",
    "\n",
    "res = get_frequency(read_input('input01.txt'))\n",
    "\n",
    "print(f'Frequency is {res}')\n",
    "\n",
    "assert res == 525\n",
    "\n",
    "print('\\n*******\\nPuzzle2\\n*******\\n')\n",
    "\n",
    "print('Test case\\n---------\\n')\n",
    "\n",
    "res = find_duplicate_fast([+1, -2, +3, +1])\n",
    "\n",
    "print(f'First duplicate is {res}')\n",
    "\n",
    "assert res == 2\n",
    "\n",
    "print('\\nPuzzle case\\n-----------\\n')\n",
    "\n",
    "res = find_duplicate_fast(read_input('input01.txt'))\n",
    "\n",
    "print(f'First duplicate is {res}')\n",
    "\n",
    "assert res == 75749\n"
   ]
  },
  {
   "cell_type": "code",
   "execution_count": null,
   "id": "0f8a7c8f-a98b-4d91-9dd7-c128e9d03905",
   "metadata": {},
   "outputs": [],
   "source": []
  }
 ],
 "metadata": {
  "kernelspec": {
   "display_name": "Python 3 (ipykernel)",
   "language": "python",
   "name": "python3"
  },
  "language_info": {
   "codemirror_mode": {
    "name": "ipython",
    "version": 3
   },
   "file_extension": ".py",
   "mimetype": "text/x-python",
   "name": "python",
   "nbconvert_exporter": "python",
   "pygments_lexer": "ipython3",
   "version": "3.11.4"
  }
 },
 "nbformat": 4,
 "nbformat_minor": 5
}
