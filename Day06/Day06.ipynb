{
 "cells": [
  {
   "cell_type": "code",
   "execution_count": 8,
   "id": "a9ee00fa-7910-4dff-9470-04021b0f16b3",
   "metadata": {},
   "outputs": [],
   "source": [
    "import numpy as np"
   ]
  },
  {
   "cell_type": "code",
   "execution_count": 24,
   "id": "3998b42f-e6a2-4fcf-af67-0da0cfac0f8d",
   "metadata": {},
   "outputs": [],
   "source": [
    "def read_input(infile):\n",
    "    coords = []\n",
    "    minx = 1e9\n",
    "    maxx = -1\n",
    "    miny = 1e9\n",
    "    maxy = -1\n",
    "    with open(infile, 'r') as inf:\n",
    "        for cid, line in enumerate(inf.readlines()):\n",
    "            x, y = [int(v) for v in line.strip().split(',')]\n",
    "            coords.append((cid+1, y, x))\n",
    "    \n",
    "    return coords"
   ]
  },
  {
   "cell_type": "code",
   "execution_count": 42,
   "id": "da5c17b3-477b-4f2c-a51b-b526a14f95f9",
   "metadata": {},
   "outputs": [
    {
     "data": {
      "text/plain": [
       "45602"
      ]
     },
     "execution_count": 42,
     "metadata": {},
     "output_type": "execute_result"
    }
   ],
   "source": [
    "def map_grid(coords):\n",
    "\n",
    "    ny, nx = 400, 400\n",
    "    #ny, nx = 10, 10\n",
    "    dist_grid = np.zeros((ny,nx), dtype=int) + 1e9\n",
    "    id_grid = np.zeros(dist_grid.shape, dtype=int)\n",
    "\n",
    "    for y in range(ny):\n",
    "        for x in range(nx):\n",
    "            for cid, cy, cx in coords:\n",
    "                d = abs(cy-y) + abs(cx-x)\n",
    "                if d == 0:\n",
    "                    id_grid[y, x] = cid\n",
    "                if d < dist_grid[y, x]:\n",
    "                    dist_grid[y, x] = d\n",
    "                    id_grid[y, x] = cid\n",
    "                elif d == dist_grid[y, x]:\n",
    "                    id_grid[y, x] = 0\n",
    "\n",
    "    max_area = 0\n",
    "    for cid, _, _ in coords:\n",
    "        if cid in id_grid[0,:] or cid in id_grid[-1,:] or cid in id_grid[:,0] or cid in id_grid[:,-1]:\n",
    "            continue\n",
    "        max_area = max(max_area, len(np.argwhere(id_grid==cid)))\n",
    "    return max_area\n",
    "                \n",
    "def map_grid2(coords, maxdist):\n",
    "\n",
    "    ny, nx = 400, 400\n",
    "    # ny, nx = 10, 10\n",
    "    dist_grid = np.zeros((ny,nx), dtype=int)\n",
    "    id_grid = np.zeros(dist_grid.shape, dtype=int)\n",
    "\n",
    "    for y in range(ny):\n",
    "        for x in range(nx):\n",
    "            for cid, cy, cx in coords:\n",
    "                d = abs(cy-y) + abs(cx-x)\n",
    "                dist_grid[y, x] += d\n",
    "\n",
    "    return len(np.argwhere(dist_grid < maxdist))"
   ]
  },
  {
   "cell_type": "code",
   "execution_count": 45,
   "id": "02f1ce99-6ff6-4230-acc0-c841156b0b96",
   "metadata": {},
   "outputs": [
    {
     "name": "stdout",
     "output_type": "stream",
     "text": [
      "*******\n",
      "Puzzle1\n",
      "*******\n",
      "\n",
      "Test case\n",
      "---------\n",
      "\n",
      "Largest area is 17\n",
      "\n",
      "Puzzle case\n",
      "-----------\n",
      "\n",
      "Largest area is 3290\n",
      "\n",
      "*******\n",
      "Puzzle2\n",
      "*******\n",
      "\n",
      "Test case\n",
      "---------\n",
      "\n",
      "Largest area is  is 16\n",
      "\n",
      "Puzzle case\n",
      "-----------\n",
      "\n",
      "Largest area is  is 45602\n"
     ]
    }
   ],
   "source": [
    "print('*******\\nPuzzle1\\n*******\\n')\n",
    "\n",
    "print('Test case\\n---------\\n')\n",
    "\n",
    "res = map_grid(read_input('input06a.txt'))\n",
    "\n",
    "print(f'Largest area is {res}')\n",
    "\n",
    "assert res == 17\n",
    "\n",
    "print('\\nPuzzle case\\n-----------\\n')\n",
    "\n",
    "res = map_grid(read_input('input06.txt'))\n",
    "\n",
    "print(f'Largest area is {res}')\n",
    "\n",
    "assert res == 3290\n",
    "\n",
    "print('\\n*******\\nPuzzle2\\n*******\\n')\n",
    "\n",
    "print('Test case\\n---------\\n')\n",
    "\n",
    "res = map_grid2(read_input('input06a.txt'), 32)\n",
    "\n",
    "print(f'Largest area is  is {res}')\n",
    "\n",
    "assert res == 16\n",
    "\n",
    "print('\\nPuzzle case\\n-----------\\n')\n",
    "\n",
    "res = map_grid2(read_input('input06.txt'), 10000)\n",
    "\n",
    "print(f'Largest area is  is {res}')\n",
    "\n",
    "assert res == 45602\n"
   ]
  },
  {
   "cell_type": "code",
   "execution_count": null,
   "id": "478feba0-3d74-4ece-85c6-781180f497c6",
   "metadata": {},
   "outputs": [],
   "source": []
  }
 ],
 "metadata": {
  "kernelspec": {
   "display_name": "Python 3 (ipykernel)",
   "language": "python",
   "name": "python3"
  },
  "language_info": {
   "codemirror_mode": {
    "name": "ipython",
    "version": 3
   },
   "file_extension": ".py",
   "mimetype": "text/x-python",
   "name": "python",
   "nbconvert_exporter": "python",
   "pygments_lexer": "ipython3",
   "version": "3.11.4"
  }
 },
 "nbformat": 4,
 "nbformat_minor": 5
}
