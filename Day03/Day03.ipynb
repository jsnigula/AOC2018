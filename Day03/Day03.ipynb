{
 "cells": [
  {
   "cell_type": "code",
   "execution_count": 39,
   "id": "a9ee00fa-7910-4dff-9470-04021b0f16b3",
   "metadata": {},
   "outputs": [],
   "source": [
    "import re\n",
    "import numpy as np"
   ]
  },
  {
   "cell_type": "code",
   "execution_count": 47,
   "id": "3998b42f-e6a2-4fcf-af67-0da0cfac0f8d",
   "metadata": {},
   "outputs": [],
   "source": [
    "def read_input(infile):\n",
    "    claims = []\n",
    "    with open(infile, 'r') as inf:\n",
    "        for line in inf.readlines():\n",
    "            m = re.findall(r'#(\\d+) @ (\\d+),(\\d+): (\\d+)x(\\d+)', line.strip())\n",
    "            claims.append([int(c) for c in m[0]])\n",
    "\n",
    "    return claims"
   ]
  },
  {
   "cell_type": "code",
   "execution_count": 57,
   "id": "951d95b5-3ece-474c-ba4a-fd6b06183924",
   "metadata": {},
   "outputs": [],
   "source": [
    "def overlap(claims):\n",
    "\n",
    "    fabric = np.zeros((1000,1000), dtype=int)\n",
    "    for c in claims:\n",
    "        fabric[c[1]:(c[1]+c[3]), c[2]:(c[2]+c[4])] += 1\n",
    "    return len(np.argwhere(fabric > 1))\n",
    "\n",
    "def find_intact_claim(claims):\n",
    "\n",
    "    # First build the overlap map again\n",
    "    fabric = np.zeros((1000,1000), dtype=int)\n",
    "    for c in claims:\n",
    "        fabric[c[1]:(c[1]+c[3]), c[2]:(c[2]+c[4])] += 1\n",
    "\n",
    "    # Record the amount of overlap we see\n",
    "    n_overlap = np.sum(fabric[np.where(fabric > 1)])\n",
    "\n",
    "    for c in claims:\n",
    "        fabric[c[1]:(c[1]+c[3]), c[2]:(c[2]+c[4])] -= 1\n",
    "        if np.sum(fabric[np.where(fabric > 1)]) == n_overlap:\n",
    "            # We removed the claim, but the overlap didn't change\n",
    "            return c[0]\n",
    "        fabric[c[1]:(c[1]+c[3]), c[2]:(c[2]+c[4])] += 1\n"
   ]
  },
  {
   "cell_type": "code",
   "execution_count": 59,
   "id": "02f1ce99-6ff6-4230-acc0-c841156b0b96",
   "metadata": {},
   "outputs": [
    {
     "name": "stdout",
     "output_type": "stream",
     "text": [
      "*******\n",
      "Puzzle1\n",
      "*******\n",
      "\n",
      "Test case\n",
      "---------\n",
      "\n",
      "4 squares overlap\n",
      "\n",
      "Puzzle case\n",
      "-----------\n",
      "\n",
      "105071 squares overlap\n",
      "\n",
      "*******\n",
      "Puzzle2\n",
      "*******\n",
      "\n",
      "Test case\n",
      "---------\n",
      "\n",
      "Intact claim is 3\n",
      "\n",
      "Puzzle case\n",
      "-----------\n",
      "\n",
      "Intact claim is 222\n"
     ]
    }
   ],
   "source": [
    "print('*******\\nPuzzle1\\n*******\\n')\n",
    "\n",
    "print('Test case\\n---------\\n')\n",
    "\n",
    "res = overlap(read_input('input03a.txt'))\n",
    "\n",
    "print(f'{res} squares overlap')\n",
    "\n",
    "assert res == 4\n",
    "\n",
    "print('\\nPuzzle case\\n-----------\\n')\n",
    "\n",
    "res = overlap(read_input('input03.txt'))\n",
    "\n",
    "print(f'{res} squares overlap')\n",
    "\n",
    "assert res == 105071\n",
    "\n",
    "print('\\n*******\\nPuzzle2\\n*******\\n')\n",
    "\n",
    "print('Test case\\n---------\\n')\n",
    "\n",
    "res = find_intact_claim(read_input('input03a.txt'))\n",
    "\n",
    "print(f'Intact claim is {res}')\n",
    "\n",
    "assert res == 3\n",
    "\n",
    "print('\\nPuzzle case\\n-----------\\n')\n",
    "\n",
    "res = find_intact_claim(read_input('input03.txt'))\n",
    "\n",
    "print(f'Intact claim is {res}')\n",
    "\n",
    "assert res == 222\n"
   ]
  },
  {
   "cell_type": "code",
   "execution_count": null,
   "id": "64de8082-779c-40cd-a443-879fa90cf10b",
   "metadata": {},
   "outputs": [],
   "source": []
  }
 ],
 "metadata": {
  "kernelspec": {
   "display_name": "Python 3 (ipykernel)",
   "language": "python",
   "name": "python3"
  },
  "language_info": {
   "codemirror_mode": {
    "name": "ipython",
    "version": 3
   },
   "file_extension": ".py",
   "mimetype": "text/x-python",
   "name": "python",
   "nbconvert_exporter": "python",
   "pygments_lexer": "ipython3",
   "version": "3.11.4"
  }
 },
 "nbformat": 4,
 "nbformat_minor": 5
}
