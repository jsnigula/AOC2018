{
 "cells": [
  {
   "cell_type": "code",
   "execution_count": null,
   "id": "a9ee00fa-7910-4dff-9470-04021b0f16b3",
   "metadata": {},
   "outputs": [],
   "source": []
  },
  {
   "cell_type": "code",
   "execution_count": 1,
   "id": "3998b42f-e6a2-4fcf-af67-0da0cfac0f8d",
   "metadata": {},
   "outputs": [],
   "source": [
    "def read_input(infile):\n",
    "    ids = []\n",
    "    with open(infile, 'r') as inf:\n",
    "        for line in inf.readlines():\n",
    "            ids.append(line.strip())\n",
    "\n",
    "    return ids"
   ]
  },
  {
   "cell_type": "code",
   "execution_count": 19,
   "id": "da5c17b3-477b-4f2c-a51b-b526a14f95f9",
   "metadata": {},
   "outputs": [
    {
     "data": {
      "text/plain": [
       "'fgij'"
      ]
     },
     "execution_count": 19,
     "metadata": {},
     "output_type": "execute_result"
    }
   ],
   "source": [
    "def checksum(ids):\n",
    "    boxids = []\n",
    "    n_d = 0\n",
    "    n_t = 0\n",
    "    for i in ids:\n",
    "        s_i = set(i)\n",
    "\n",
    "        if len(s_i) == len(i):\n",
    "            continue\n",
    "        elif len(s_i) == len(i) - 1:\n",
    "            n_d += 1\n",
    "            boxids.append(i)\n",
    "        else:\n",
    "            d = False\n",
    "            t = False\n",
    "            for c in s_i:\n",
    "                n_c = i.count(c)\n",
    "                if n_c == 2:\n",
    "                    d = True\n",
    "                if n_c == 3:\n",
    "                    t = True\n",
    "            if d:\n",
    "                n_d += 1\n",
    "            if t:\n",
    "                n_t += 1\n",
    "            if d or t:\n",
    "                boxids.append(i)\n",
    "                \n",
    "    return n_d * n_t, boxids\n",
    "\n",
    "def find_boxes(boxids):\n",
    "\n",
    "    res = ''\n",
    "\n",
    "    for i, i1 in enumerate(boxids[:-1]):\n",
    "        for i2 in boxids[i+1:]:\n",
    "            ndiff = 0\n",
    "            for p in range(len(i1)):\n",
    "                if i1[p] != i2[p]:\n",
    "                    ndiff += 1\n",
    "                if ndiff > 1:\n",
    "                    break\n",
    "            if ndiff == 1:\n",
    "                for p in range(len(i1)):\n",
    "                    if i1[p] == i2[p]:\n",
    "                        res += i1[p]\n",
    "    return res\n",
    "\n",
    "# find_boxes(read_input('input02b.txt'))\n"
   ]
  },
  {
   "cell_type": "code",
   "execution_count": 21,
   "id": "02f1ce99-6ff6-4230-acc0-c841156b0b96",
   "metadata": {},
   "outputs": [
    {
     "name": "stdout",
     "output_type": "stream",
     "text": [
      "*******\n",
      "Puzzle1\n",
      "*******\n",
      "\n",
      "Test case\n",
      "---------\n",
      "\n",
      "Checksum is 12\n",
      "\n",
      "Puzzle case\n",
      "-----------\n",
      "\n",
      "Checksum is 6175\n",
      "\n",
      "*******\n",
      "Puzzle2\n",
      "*******\n",
      "\n",
      "Test case\n",
      "---------\n",
      "\n",
      "Common letters are fgij\n",
      "\n",
      "Puzzle case\n",
      "-----------\n",
      "\n",
      "Common letters are is asgwjcmzredihqoutcylvzinx\n"
     ]
    }
   ],
   "source": [
    "print('*******\\nPuzzle1\\n*******\\n')\n",
    "\n",
    "print('Test case\\n---------\\n')\n",
    "\n",
    "res, _ = checksum(read_input('input02a.txt'))\n",
    "\n",
    "print(f'Checksum is {res}')\n",
    "\n",
    "assert res == 12\n",
    "\n",
    "print('\\nPuzzle case\\n-----------\\n')\n",
    "\n",
    "res, boxids = checksum(read_input('input02.txt'))\n",
    "\n",
    "print(f'Checksum is {res}')\n",
    "\n",
    "assert res == 6175\n",
    "\n",
    "print('\\n*******\\nPuzzle2\\n*******\\n')\n",
    "\n",
    "print('Test case\\n---------\\n')\n",
    "\n",
    "res = find_boxes(read_input('input02b.txt'))\n",
    "\n",
    "print(f'Common letters are {res}')\n",
    "\n",
    "assert res == 'fgij'\n",
    "\n",
    "print('\\nPuzzle case\\n-----------\\n')\n",
    "\n",
    "res = find_boxes(boxids)\n",
    "\n",
    "print(f'Common letters are is {res}')\n",
    "\n",
    "assert res == 'asgwjcmzredihqoutcylvzinx'\n"
   ]
  },
  {
   "cell_type": "code",
   "execution_count": null,
   "id": "478feba0-3d74-4ece-85c6-781180f497c6",
   "metadata": {},
   "outputs": [],
   "source": []
  }
 ],
 "metadata": {
  "kernelspec": {
   "display_name": "Python 3 (ipykernel)",
   "language": "python",
   "name": "python3"
  },
  "language_info": {
   "codemirror_mode": {
    "name": "ipython",
    "version": 3
   },
   "file_extension": ".py",
   "mimetype": "text/x-python",
   "name": "python",
   "nbconvert_exporter": "python",
   "pygments_lexer": "ipython3",
   "version": "3.11.4"
  }
 },
 "nbformat": 4,
 "nbformat_minor": 5
}
