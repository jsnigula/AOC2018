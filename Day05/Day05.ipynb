{
 "cells": [
  {
   "cell_type": "code",
   "execution_count": null,
   "id": "a9ee00fa-7910-4dff-9470-04021b0f16b3",
   "metadata": {},
   "outputs": [],
   "source": []
  },
  {
   "cell_type": "code",
   "execution_count": 10,
   "id": "3998b42f-e6a2-4fcf-af67-0da0cfac0f8d",
   "metadata": {},
   "outputs": [],
   "source": [
    "def read_input(infile):\n",
    "    with open(infile, 'r') as inf:\n",
    "        return inf.readline().strip()"
   ]
  },
  {
   "cell_type": "code",
   "execution_count": 28,
   "id": "da5c17b3-477b-4f2c-a51b-b526a14f95f9",
   "metadata": {},
   "outputs": [],
   "source": [
    "def reduce(instr):\n",
    "\n",
    "    pairs = []\n",
    "    for i in range(97, 123):\n",
    "        c = chr(i)\n",
    "        pairs += [c+c.upper(), c.upper()+c]\n",
    "\n",
    "    lastlen = 1e9\n",
    "    while len(instr) != lastlen:\n",
    "        lastlen = len(instr)\n",
    "        for p in pairs:\n",
    "            instr = instr.replace(p, '')\n",
    "\n",
    "    n_instr = 0\n",
    "    return len(instr)\n",
    "\n",
    "def fully_reduce(instr):\n",
    "    bestlen = 1e9\n",
    "    for i in range(97, 123):\n",
    "        t_instr = instr.replace(chr(i), '').replace(chr(i).upper(), '')\n",
    "        bestlen = min(bestlen, reduce(t_instr))\n",
    "\n",
    "    return bestlen\n"
   ]
  },
  {
   "cell_type": "code",
   "execution_count": 29,
   "id": "02f1ce99-6ff6-4230-acc0-c841156b0b96",
   "metadata": {},
   "outputs": [
    {
     "name": "stdout",
     "output_type": "stream",
     "text": [
      "*******\n",
      "Puzzle1\n",
      "*******\n",
      "\n",
      "Test case\n",
      "---------\n",
      "\n",
      "Length is 10\n",
      "\n",
      "Puzzle case\n",
      "-----------\n",
      "\n",
      "Length is 9078\n",
      "\n",
      "*******\n",
      "Puzzle2\n",
      "*******\n",
      "\n",
      "Test case\n",
      "---------\n",
      "\n",
      "Shortest polymer length is 4\n",
      "\n",
      "Puzzle case\n",
      "-----------\n",
      "\n",
      "Shortest polymer length is 5698\n"
     ]
    }
   ],
   "source": [
    "print('*******\\nPuzzle1\\n*******\\n')\n",
    "\n",
    "print('Test case\\n---------\\n')\n",
    "\n",
    "res = reduce(read_input('input05a.txt'))\n",
    "\n",
    "print(f'Length is {res}')\n",
    "\n",
    "assert res == 10\n",
    "\n",
    "print('\\nPuzzle case\\n-----------\\n')\n",
    "\n",
    "res = reduce(read_input('input05.txt'))\n",
    "\n",
    "print(f'Length is {res}')\n",
    "\n",
    "assert res == 9078\n",
    "\n",
    "print('\\n*******\\nPuzzle2\\n*******\\n')\n",
    "\n",
    "print('Test case\\n---------\\n')\n",
    "\n",
    "res = fully_reduce(read_input('input05a.txt'))\n",
    "\n",
    "print(f'Shortest polymer length is {res}')\n",
    "\n",
    "assert res == 4\n",
    "\n",
    "print('\\nPuzzle case\\n-----------\\n')\n",
    "\n",
    "res = fully_reduce(read_input('input05.txt'))\n",
    "\n",
    "print(f'Shortest polymer length is {res}')\n",
    "\n",
    "assert res == 5698\n"
   ]
  },
  {
   "cell_type": "code",
   "execution_count": null,
   "id": "9df70b84-170a-4fe7-a28d-ef34b7366896",
   "metadata": {},
   "outputs": [],
   "source": []
  }
 ],
 "metadata": {
  "kernelspec": {
   "display_name": "Python 3 (ipykernel)",
   "language": "python",
   "name": "python3"
  },
  "language_info": {
   "codemirror_mode": {
    "name": "ipython",
    "version": 3
   },
   "file_extension": ".py",
   "mimetype": "text/x-python",
   "name": "python",
   "nbconvert_exporter": "python",
   "pygments_lexer": "ipython3",
   "version": "3.11.4"
  }
 },
 "nbformat": 4,
 "nbformat_minor": 5
}
